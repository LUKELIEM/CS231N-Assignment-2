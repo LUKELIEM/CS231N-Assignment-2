{
 "cells": [
  {
   "cell_type": "code",
   "execution_count": 12,
   "metadata": {
    "collapsed": true
   },
   "outputs": [],
   "source": [
    "class Solver(object):\n",
    "    \n",
    "    def __init__(self, model):\n",
    "        self.model = model\n",
    "        self._reset()\n",
    "        \n",
    "    def _reset(self):\n",
    "        pass\n",
    "        \n",
    "    def train(self):\n",
    "        self.model['first'] = 2"
   ]
  },
  {
   "cell_type": "code",
   "execution_count": 14,
   "metadata": {
    "collapsed": false
   },
   "outputs": [
    {
     "name": "stdout",
     "output_type": "stream",
     "text": [
      "{'first': 1}\n",
      "{'first': 2}\n",
      "{'first': 2}\n"
     ]
    }
   ],
   "source": [
    "model = {'first':1}\n",
    "print model\n",
    "\n",
    "solver = Solver(model)\n",
    "solver.train()\n",
    "\n",
    "print model\n",
    "print solver.model"
   ]
  },
  {
   "cell_type": "markdown",
   "metadata": {},
   "source": [
    "## Relationship between Solver and Model\n",
    "\n",
    "The model that is passed into Solver as a parameter will be modified when solver.train() is run.\n",
    "\n",
    "solver.train() will keep track of the parameters that gives the best validation accuracy, and pass those parameters back to model at the end of the training.\n",
    "\n",
    "    # At the end of training swap the best params into the model  \n",
    "    self.model.params = self.best_params  \n",
    "    \n",
    "So we need to make sure that every parameters need to run the Test mode (forward pass) must be contained within the model.params data structure, for example, batch normalization parameters such as running mean and var."
   ]
  },
  {
   "cell_type": "code",
   "execution_count": null,
   "metadata": {
    "collapsed": true
   },
   "outputs": [],
   "source": []
  }
 ],
 "metadata": {
  "anaconda-cloud": {},
  "kernelspec": {
   "display_name": "Python [conda root]",
   "language": "python",
   "name": "conda-root-py"
  },
  "language_info": {
   "codemirror_mode": {
    "name": "ipython",
    "version": 2
   },
   "file_extension": ".py",
   "mimetype": "text/x-python",
   "name": "python",
   "nbconvert_exporter": "python",
   "pygments_lexer": "ipython2",
   "version": "2.7.12"
  }
 },
 "nbformat": 4,
 "nbformat_minor": 1
}
